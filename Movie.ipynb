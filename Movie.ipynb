{
 "cells": [
  {
   "cell_type": "code",
   "execution_count": 1,
   "metadata": {},
   "outputs": [
    {
     "name": "stderr",
     "output_type": "stream",
     "text": [
      "/usr/local/lib/python3.6/site-packages/nltk/twitter/__init__.py:20: UserWarning: The twython library has not been installed. Some functionality from the twitter package will not be available.\n",
      "  warnings.warn(\"The twython library has not been installed. \"\n"
     ]
    }
   ],
   "source": [
    "from nltk.sentiment.vader import SentimentIntensityAnalyzer\n",
    "from nltk.corpus import stopwords"
   ]
  },
  {
   "cell_type": "code",
   "execution_count": 2,
   "metadata": {},
   "outputs": [
    {
     "name": "stdout",
     "output_type": "stream",
     "text": [
      "['#Vishwaroopam2 wtf just now i saw the booking status of vishwaroopam 2 in tamil nadu ... So poor ..', 'I am not a film buff. But I understand that Vishwaroopam 2 crashed even before take off. If this is true, there is every possibility of Indian 2 project getting cancelled. Very unfortunate if this info is true considering that @ikamalhaasan remains the greatest actor of our time.', 'Kamal fans celebrating Vishwaroopam Blockbuster!', 'Well, what do you know? I rather liked #Vishwaroopam2, and here\\'s a review almost as long as the one I wrote for #Kaala. \\n\"Strength isn’t just in these educated women. It’s also in someone like Omar’s wife, who\\'s willing to do everything to save her kids.\"', \"I thoroughly enjoyed the first part which is Tamil Cinema's best spy thriller but this one is quite underwhelming. The visual quality, stunt sequences of #Vishwaroopam 2 are nowhere near the 1st part. Actor KH shines as usual but for the first time, director KH disappoints.\", \"Watch @baradwajrangan's Quick Gun review of @ikamalhaasan's Vishwaroopam 2.\", \"Eager to watch Dr. Kamal Sir's Vishwaroopam 2.\", \"#Vishwaroopam2 is a very intelligently written spy thriller. Those who've seen #Vishwaroopam can easily connect & enjoy more the way story has been narrated. Kamal sir is brilliant in both acting & direction. @andrea_jeremiah is superb. Must watch for brilliant writing &making\", 'Showtime #vishwaroopam II', 'Vishwaroopam 2 - FDFS started \\n\\n#Vishwaroopam2 on time']\n"
     ]
    }
   ],
   "source": [
    "file = open('vishwaroopam.txt', 'r')\n",
    "text = file.read()\n",
    "sentences = text.split('$')\n",
    "sentences = [w.strip() for w in sentences]\n",
    "print(sentences[:10])"
   ]
  },
  {
   "cell_type": "code",
   "execution_count": 6,
   "metadata": {},
   "outputs": [
    {
     "name": "stdout",
     "output_type": "stream",
     "text": [
      "POSITIVE:  241\n",
      "NEGATIVE:  78\n",
      "NEUTRAL:  223\n"
     ]
    }
   ],
   "source": [
    "positive = 0\n",
    "negative = 0 \n",
    "neutral = 0\n",
    "sid = SentimentIntensityAnalyzer()\n",
    "for sentence in sentences:\n",
    "    #print(sentence)\n",
    "    ss = sid.polarity_scores(sentence)\n",
    "    #for k in sorted(ss):\n",
    "        #print('{0}: {1}, '.format(k, ss[k]), end='')\n",
    "    #print()\n",
    "    if(ss['compound'] < -0.2):\n",
    "        negative = negative + 1\n",
    "    elif(ss['compound'] > 0.2):\n",
    "        positive = positive + 1\n",
    "    else:\n",
    "        neutral = neutral + 1\n",
    "print(\"POSITIVE: \", positive)\n",
    "print(\"NEGATIVE: \", negative)\n",
    "print(\"NEUTRAL: \", neutral)"
   ]
  },
  {
   "cell_type": "code",
   "execution_count": null,
   "metadata": {},
   "outputs": [],
   "source": []
  }
 ],
 "metadata": {
  "kernelspec": {
   "display_name": "Python 3",
   "language": "python",
   "name": "python3"
  },
  "language_info": {
   "codemirror_mode": {
    "name": "ipython",
    "version": 3
   },
   "file_extension": ".py",
   "mimetype": "text/x-python",
   "name": "python",
   "nbconvert_exporter": "python",
   "pygments_lexer": "ipython3",
   "version": "3.6.6"
  }
 },
 "nbformat": 4,
 "nbformat_minor": 2
}
