{
 "cells": [
  {
   "cell_type": "code",
   "execution_count": 2,
   "metadata": {},
   "outputs": [
    {
     "name": "stderr",
     "output_type": "stream",
     "text": [
      "/usr/local/lib/python3.6/site-packages/nltk/twitter/__init__.py:20: UserWarning: The twython library has not been installed. Some functionality from the twitter package will not be available.\n",
      "  warnings.warn(\"The twython library has not been installed. \"\n"
     ]
    }
   ],
   "source": [
    "from nltk.sentiment.vader import SentimentIntensityAnalyzer\n",
    "from nltk.corpus import stopwords"
   ]
  },
  {
   "cell_type": "code",
   "execution_count": 3,
   "metadata": {},
   "outputs": [
    {
     "name": "stdout",
     "output_type": "stream",
     "text": [
      "['#Vishwaroopam2 wtf just now i saw the booking status of vishwaroopam 2 in tamil nadu ... So poor ..', 'I am not a film buff. But I understand that Vishwaroopam 2 crashed even before take off. If this is true, there is every possibility of Indian 2 project getting cancelled. Very unfortunate if this info is true considering that @ikamalhaasan remains the greatest actor of our time.', 'Kamal fans celebrating Vishwaroopam Blockbuster!', 'Well, what do you know? I rather liked #Vishwaroopam2, and here\\'s a review almost as long as the one I wrote for #Kaala. \\n\"Strength isn’t just in these educated women. It’s also in someone like Omar’s wife, who\\'s willing to do everything to save her kids.\"', \"I thoroughly enjoyed the first part which is Tamil Cinema's best spy thriller but this one is quite underwhelming. The visual quality, stunt sequences of #Vishwaroopam 2 are nowhere near the 1st part. Actor KH shines as usual but for the first time, director KH disappoints.\", \"Watch @baradwajrangan's Quick Gun review of @ikamalhaasan's Vishwaroopam 2.\", \"Eager to watch Dr. Kamal Sir's Vishwaroopam 2.\", \"#Vishwaroopam2 is a very intelligently written spy thriller. Those who've seen #Vishwaroopam can easily connect & enjoy more the way story has been narrated. Kamal sir is brilliant in both acting & direction. @andrea_jeremiah is superb. Must watch for brilliant writing &making\", 'Showtime #vishwaroopam II', 'Vishwaroopam 2 - FDFS started \\n\\n#Vishwaroopam2 on time']\n"
     ]
    }
   ],
   "source": [
    "file = open('vishwaroopam.txt', 'r')\n",
    "text = file.read()\n",
    "sentences = text.split('$')\n",
    "sentences = [w.strip() for w in sentences]\n",
    "print(sentences[:10])"
   ]
  },
  {
   "cell_type": "code",
   "execution_count": 4,
   "metadata": {},
   "outputs": [
    {
     "name": "stdout",
     "output_type": "stream",
     "text": [
      "POSITIVE:  241\n",
      "NEGATIVE:  78\n",
      "NEUTRAL:  223\n"
     ]
    }
   ],
   "source": [
    "positive = 0\n",
    "negative = 0 \n",
    "neutral = 0\n",
    "sid = SentimentIntensityAnalyzer()\n",
    "for sentence in sentences:\n",
    "    #print(sentence)\n",
    "    ss = sid.polarity_scores(sentence)\n",
    "    #for k in sorted(ss):\n",
    "        #print('{0}: {1}, '.format(k, ss[k]), end='')\n",
    "    #print()\n",
    "    if(ss['compound'] < -0.2):\n",
    "        negative = negative + 1\n",
    "    elif(ss['compound'] > 0.2):\n",
    "        positive = positive + 1\n",
    "    else:\n",
    "        neutral = neutral + 1\n",
    "print(\"POSITIVE: \", positive)\n",
    "print(\"NEGATIVE: \", negative)\n",
    "print(\"NEUTRAL: \", neutral)"
   ]
  },
  {
   "cell_type": "code",
   "execution_count": 7,
   "metadata": {},
   "outputs": [
    {
     "data": {
      "image/png": "[encoded data removed]",
      "text/plain": [
       "<Figure size 432x288 with 1 Axes>"
      ]
     },
     "metadata": {},
     "output_type": "display_data"
    }
   ],
   "source": [
    "import matplotlib.pyplot as plt\n",
    "%matplotlib inline\n",
    "plt.style.use('ggplot')\n",
    "\n",
    "x = ['Positive', 'Negative', 'Neutral']\n",
    "values = [positive, negative, neutral]\n",
    "\n",
    "x_pos = [i for i, _ in enumerate(x)]\n",
    "\n",
    "plt.bar(x_pos, values, color='blue')\n",
    "plt.xlabel(\"Type of review\")\n",
    "plt.ylabel(\"Number of Reviews\")\n",
    "plt.title(\"Vishwaroopam 2\")\n",
    "\n",
    "plt.xticks(x_pos, x)\n",
    "\n",
    "plt.show()"
   ]
  },
  {
   "cell_type": "code",
   "execution_count": 9,
   "metadata": {},
   "outputs": [
    {
     "name": "stdout",
     "output_type": "stream",
     "text": [
      "['Let’s argue. The dimension Jack Jack travels to in Incredibles 2 is the same one from Monsters Inc.', 'Saw INCREDIBLES 2. Very interesting plot of ‘prohibiting super hero by law’ in this hero oriented era (like CIVIL WAR). Brad Bird is so good at the work of animation. Also ‘bao’ was showing at the same theater and I was overwhelmed by their love for family.', 'I never watched incredibles 2 and I’m lowkey still mad', 'i saw the incredibles 2 yesterday and void is definitely kristen stewart meeting kate winslet', 'You know what’s crazy? I still haven’t seen incredibles 2', 'My Hero Academia MOVIE got 1st place at Japanese Movie Ranking on it’s 1st day\\n\\n1. My Hero Academia\\n2, MISSION: IMPOSSIBLE - FALLOUT\\n3. Code blue \\n4. Incredibles 2\\n5. JURASSIC WORLD: FALLEN KINGDOM', 'Films I’ve not seen bc everyone’s shite and won’t come cinema with me:\\n\\nIncredibles 2\\nDeadpool 2\\nAnt Man & The Wasp\\nMamma Mia 2\\nSolo: A Star Wars Story\\nJurassic World: Fallen Kingdom\\n\\nRT if u think this is unacceptable.', 'Found out today that @TheHateUGive trailer is playing before the Incredibles 2 in some markets and whew, chile. The conversations these parents probably have to have', 'Disney owns five of the most popular films of the year (BLACK PANTHER, AVENGERS: INFINITY WAR, ANT-MAN AND THE WASP, INCREDIBLES 2, and SOLO: A STAR WARS STORY).\\n\\nDisney owns ABC, the network that broadcasts the #Oscars. \\n\\nToday, the Oscars announced a Best Popular Film award', 'My Hero Academia: The Movie has Surpassed Mission Impossible and Incredibles 2 in Japanese Box Office.']\n"
     ]
    }
   ],
   "source": [
    "file = open('Incredibles 2.txt', 'r')\n",
    "text = file.read()\n",
    "sentences = text.split('$')\n",
    "sentences = [w.strip() for w in sentences]\n",
    "print(sentences[:10])"
   ]
  },
  {
   "cell_type": "code",
   "execution_count": 10,
   "metadata": {},
   "outputs": [
    {
     "name": "stdout",
     "output_type": "stream",
     "text": [
      "POSITIVE:  135\n",
      "NEGATIVE:  103\n",
      "NEUTRAL:  355\n"
     ]
    }
   ],
   "source": [
    "positive = 0\n",
    "negative = 0 \n",
    "neutral = 0\n",
    "sid = SentimentIntensityAnalyzer()\n",
    "for sentence in sentences:\n",
    "    #print(sentence)\n",
    "    ss = sid.polarity_scores(sentence)\n",
    "    #for k in sorted(ss):\n",
    "        #print('{0}: {1}, '.format(k, ss[k]), end='')\n",
    "    #print()\n",
    "    if(ss['compound'] < -0.2):\n",
    "        negative = negative + 1\n",
    "    elif(ss['compound'] > 0.2):\n",
    "        positive = positive + 1\n",
    "    else:\n",
    "        neutral = neutral + 1\n",
    "print(\"POSITIVE: \", positive)\n",
    "print(\"NEGATIVE: \", negative)\n",
    "print(\"NEUTRAL: \", neutral)"
   ]
  },
  {
   "cell_type": "code",
   "execution_count": 12,
   "metadata": {},
   "outputs": [
    {
     "data": {
      "image/png": "[encoded data removed]",
      "text/plain": [
       "<Figure size 432x288 with 1 Axes>"
      ]
     },
     "metadata": {},
     "output_type": "display_data"
    }
   ],
   "source": [
    "x = ['Positive', 'Negative', 'Neutral']\n",
    "values = [positive, negative, neutral]\n",
    "\n",
    "x_pos = [i for i, _ in enumerate(x)]\n",
    "\n",
    "plt.bar(x_pos, values, color='blue')\n",
    "plt.xlabel(\"Type of review\")\n",
    "plt.ylabel(\"Number of Reviews\")\n",
    "plt.title(\"Incredibles 2\")\n",
    "\n",
    "plt.xticks(x_pos, x)\n",
    "\n",
    "plt.show()"
   ]
  },
  {
   "cell_type": "code",
   "execution_count": null,
   "metadata": {},
   "outputs": [],
   "source": []
  }
 ],
 "metadata": {
  "kernelspec": {
   "display_name": "Python 3",
   "language": "python",
   "name": "python3"
  },
  "language_info": {
   "codemirror_mode": {
    "name": "ipython",
    "version": 3
   },
   "file_extension": ".py",
   "mimetype": "text/x-python",
   "name": "python",
   "nbconvert_exporter": "python",
   "pygments_lexer": "ipython3",
   "version": "3.6.6"
  }
 },
 "nbformat": 4,
 "nbformat_minor": 2
}
